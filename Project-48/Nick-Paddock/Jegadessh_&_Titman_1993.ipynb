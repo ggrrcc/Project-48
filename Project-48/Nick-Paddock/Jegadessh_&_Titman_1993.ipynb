{
 "cells": [
  {
   "cell_type": "code",
   "execution_count": 12,
   "id": "a97f1868",
   "metadata": {},
   "outputs": [
    {
     "name": "stdout",
     "output_type": "stream",
     "text": [
      "Loaded AAPL.csv, 1256 rows\n",
      "Loaded GOOG.csv, 1256 rows\n",
      "Loaded MSFT.csv, 1256 rows\n",
      "\n",
      "Combined DataFrame shape: (1256, 3)\n",
      "               AAPL     GOOG    MSFT\n",
      "Date                                \n",
      "2020-06-15  85.7475  70.9925  188.94\n",
      "2020-06-16  88.0200  72.1360  193.57\n",
      "2020-06-17  87.8975  72.5560  194.24\n",
      "2020-06-18  87.9325  71.7980  196.32\n",
      "2020-06-19  87.4300  71.5860  195.15\n"
     ]
    },
    {
     "name": "stderr",
     "output_type": "stream",
     "text": [
      "<>:20: SyntaxWarning: invalid escape sequence '\\$'\n",
      "<>:20: SyntaxWarning: invalid escape sequence '\\$'\n",
      "C:\\Users\\NickPC\\AppData\\Local\\Temp\\ipykernel_17824\\330444096.py:20: SyntaxWarning: invalid escape sequence '\\$'\n",
      "  df[\"Close/Last\"] = df[\"Close/Last\"].replace('[\\$,]', '', regex=True).astype(float)\n"
     ]
    }
   ],
   "source": [
    "import pandas as pd\n",
    "import numpy as np\n",
    "import os\n",
    "import seaborn as sns\n",
    "import matplotlib.pyplot as plt\n",
    "from pathlib import Path\n",
    "\n",
    "# Parameters J3/K3\n",
    "lookback_days = 63  # ~3 months\n",
    "holding_days = 63   # ~3 months\n",
    "data_dir = Path(\"stock_info\")\n",
    "price_data = {}\n",
    "\n",
    "for file in data_dir.glob(\"*.csv\"):\n",
    "    try:\n",
    "        df = pd.read_csv(file, parse_dates=[\"Date\"])\n",
    "        df = df.sort_values(\"Date\").set_index(\"Date\")\n",
    "        \n",
    "        # Remove dollar signs and convert to float\n",
    "        df[\"Close/Last\"] = df[\"Close/Last\"].replace('[\\$,]', '', regex=True).astype(float)\n",
    "\n",
    "        price_data[file.stem] = df[\"Close/Last\"]\n",
    "        print(f\"Loaded {file.name}, {len(df)} rows\")\n",
    "\n",
    "    except Exception as e:\n",
    "        print(f\"Failed to load {file.name}: {e}\")\n",
    "\n",
    "# Combine into one DataFrame\n",
    "price_data_df = pd.DataFrame(price_data)\n",
    "print(f\"\\nCombined DataFrame shape: {price_data_df.shape}\")\n",
    "print(price_data_df.head())\n",
    "\n",
    "# Align to business days\n",
    "prices = prices.asfreq(\"B\")\n",
    "prices = prices.dropna(axis=1, thresh=int(0.8 * len(prices)))\n",
    "\n",
    "# Calculate returns\n",
    "returns = prices.pct_change().dropna()\n",
    "\n",
    "# Build portfolio strategy\n",
    "future_returns = returns.shift(-holding_days)\n",
    "\n",
    "portfolio_returns = []\n",
    "\n",
    "# Use dates where we can apply lookback and holding period\n",
    "rebalance_dates = returns.index[lookback_days : -holding_days : holding_days]"
   ]
  },
  {
   "cell_type": "code",
   "execution_count": 13,
   "id": "072dbe3a",
   "metadata": {},
   "outputs": [
    {
     "name": "stdout",
     "output_type": "stream",
     "text": [
      "Number of trading days: 0\n",
      "Lookback days: 63, Holding days: 63\n",
      "Valid iteration range: 0 days\n"
     ]
    }
   ],
   "source": [
    "print(f\"Number of trading days: {len(prices.index)}\")\n",
    "print(f\"Lookback days: {lookback_days}, Holding days: {holding_days}\")\n",
    "print(f\"Valid iteration range: {len(prices.index[lookback_days : -holding_days])} days\")\n",
    "\n",
    "# Compute scores and returns for each rebalance date\n",
    "for date in rebalance_dates:\n",
    "    lookback_window = returns.loc[date - pd.Timedelta(days=lookback_days*2): date]\n",
    "    if len(lookback_window) < lookback_days:\n",
    "        continue\n",
    "\n",
    "    momentum_scores = (prices.loc[date] / prices.loc[date - pd.Timedelta(days=lookback_days)]) - 1\n",
    "    momentum_scores = momentum_scores.dropna()\n",
    "\n",
    "    # Put into 10 ranks\n",
    "    ranked = momentum_scores.rank(pct=True)\n",
    "    deciles = pd.qcut(ranked, 10, labels=False)\n",
    "\n",
    "    # Get returns over holding period\n",
    "    end_date = date + pd.Timedelta(days=holding_days)\n",
    "    if end_date not in future_returns.index:\n",
    "        continue\n",
    "\n",
    "    holding_return = future_returns.loc[date:end_date].mean()\n",
    "\n",
    "    for decile in range(10):\n",
    "        stocks = momentum_scores.index[deciles == decile]\n",
    "        avg_return = holding_return[stocks].mean()\n",
    "        portfolio_returns.append({\n",
    "            \"Date\": date,\n",
    "            \"Decile\": decile + 1,\n",
    "            \"Return\": avg_return\n",
    "        })"
   ]
  },
  {
   "cell_type": "code",
   "execution_count": 14,
   "id": "685c22d4",
   "metadata": {},
   "outputs": [
    {
     "name": "stdout",
     "output_type": "stream",
     "text": [
      "Empty DataFrame\n",
      "Columns: []\n",
      "Index: []\n",
      "RangeIndex(start=0, stop=0, step=1)\n"
     ]
    },
    {
     "ename": "KeyError",
     "evalue": "'Decile'",
     "output_type": "error",
     "traceback": [
      "\u001b[1;31m---------------------------------------------------------------------------\u001b[0m",
      "\u001b[1;31mKeyError\u001b[0m                                  Traceback (most recent call last)",
      "Cell \u001b[1;32mIn[14], line 10\u001b[0m\n\u001b[0;32m      7\u001b[0m \u001b[38;5;66;03m# Plot results\u001b[39;00m\n\u001b[0;32m      8\u001b[0m plt\u001b[38;5;241m.\u001b[39mfigure(figsize\u001b[38;5;241m=\u001b[39m(\u001b[38;5;241m10\u001b[39m, \u001b[38;5;241m6\u001b[39m))\n\u001b[0;32m      9\u001b[0m sns\u001b[38;5;241m.\u001b[39mlineplot(\n\u001b[1;32m---> 10\u001b[0m     data\u001b[38;5;241m=\u001b[39mportfolio_df\u001b[38;5;241m.\u001b[39mgroupby(\u001b[38;5;124m\"\u001b[39m\u001b[38;5;124mDecile\u001b[39m\u001b[38;5;124m\"\u001b[39m)[\u001b[38;5;124m\"\u001b[39m\u001b[38;5;124mReturn\u001b[39m\u001b[38;5;124m\"\u001b[39m]\u001b[38;5;241m.\u001b[39mmean()\u001b[38;5;241m.\u001b[39mreset_index(),\n\u001b[0;32m     11\u001b[0m     x\u001b[38;5;241m=\u001b[39m\u001b[38;5;124m\"\u001b[39m\u001b[38;5;124mDecile\u001b[39m\u001b[38;5;124m\"\u001b[39m, y\u001b[38;5;241m=\u001b[39m\u001b[38;5;124m\"\u001b[39m\u001b[38;5;124mReturn\u001b[39m\u001b[38;5;124m\"\u001b[39m, marker\u001b[38;5;241m=\u001b[39m\u001b[38;5;124m\"\u001b[39m\u001b[38;5;124mo\u001b[39m\u001b[38;5;124m\"\u001b[39m\n\u001b[0;32m     12\u001b[0m )\n\u001b[0;32m     13\u001b[0m plt\u001b[38;5;241m.\u001b[39mtitle(\u001b[38;5;124m\"\u001b[39m\u001b[38;5;124mAverage Holding Period Return by Momentum Decile (J3/K3)\u001b[39m\u001b[38;5;124m\"\u001b[39m)\n\u001b[0;32m     14\u001b[0m plt\u001b[38;5;241m.\u001b[39mylabel(\u001b[38;5;124m\"\u001b[39m\u001b[38;5;124mAverage Return\u001b[39m\u001b[38;5;124m\"\u001b[39m)\n",
      "File \u001b[1;32md:\\Anaconda\\Lib\\site-packages\\pandas\\core\\frame.py:9183\u001b[0m, in \u001b[0;36mDataFrame.groupby\u001b[1;34m(self, by, axis, level, as_index, sort, group_keys, observed, dropna)\u001b[0m\n\u001b[0;32m   9180\u001b[0m \u001b[38;5;28;01mif\u001b[39;00m level \u001b[38;5;129;01mis\u001b[39;00m \u001b[38;5;28;01mNone\u001b[39;00m \u001b[38;5;129;01mand\u001b[39;00m by \u001b[38;5;129;01mis\u001b[39;00m \u001b[38;5;28;01mNone\u001b[39;00m:\n\u001b[0;32m   9181\u001b[0m     \u001b[38;5;28;01mraise\u001b[39;00m \u001b[38;5;167;01mTypeError\u001b[39;00m(\u001b[38;5;124m\"\u001b[39m\u001b[38;5;124mYou have to supply one of \u001b[39m\u001b[38;5;124m'\u001b[39m\u001b[38;5;124mby\u001b[39m\u001b[38;5;124m'\u001b[39m\u001b[38;5;124m and \u001b[39m\u001b[38;5;124m'\u001b[39m\u001b[38;5;124mlevel\u001b[39m\u001b[38;5;124m'\u001b[39m\u001b[38;5;124m\"\u001b[39m)\n\u001b[1;32m-> 9183\u001b[0m \u001b[38;5;28;01mreturn\u001b[39;00m DataFrameGroupBy(\n\u001b[0;32m   9184\u001b[0m     obj\u001b[38;5;241m=\u001b[39m\u001b[38;5;28mself\u001b[39m,\n\u001b[0;32m   9185\u001b[0m     keys\u001b[38;5;241m=\u001b[39mby,\n\u001b[0;32m   9186\u001b[0m     axis\u001b[38;5;241m=\u001b[39maxis,\n\u001b[0;32m   9187\u001b[0m     level\u001b[38;5;241m=\u001b[39mlevel,\n\u001b[0;32m   9188\u001b[0m     as_index\u001b[38;5;241m=\u001b[39mas_index,\n\u001b[0;32m   9189\u001b[0m     sort\u001b[38;5;241m=\u001b[39msort,\n\u001b[0;32m   9190\u001b[0m     group_keys\u001b[38;5;241m=\u001b[39mgroup_keys,\n\u001b[0;32m   9191\u001b[0m     observed\u001b[38;5;241m=\u001b[39mobserved,\n\u001b[0;32m   9192\u001b[0m     dropna\u001b[38;5;241m=\u001b[39mdropna,\n\u001b[0;32m   9193\u001b[0m )\n",
      "File \u001b[1;32md:\\Anaconda\\Lib\\site-packages\\pandas\\core\\groupby\\groupby.py:1329\u001b[0m, in \u001b[0;36mGroupBy.__init__\u001b[1;34m(self, obj, keys, axis, level, grouper, exclusions, selection, as_index, sort, group_keys, observed, dropna)\u001b[0m\n\u001b[0;32m   1326\u001b[0m \u001b[38;5;28mself\u001b[39m\u001b[38;5;241m.\u001b[39mdropna \u001b[38;5;241m=\u001b[39m dropna\n\u001b[0;32m   1328\u001b[0m \u001b[38;5;28;01mif\u001b[39;00m grouper \u001b[38;5;129;01mis\u001b[39;00m \u001b[38;5;28;01mNone\u001b[39;00m:\n\u001b[1;32m-> 1329\u001b[0m     grouper, exclusions, obj \u001b[38;5;241m=\u001b[39m get_grouper(\n\u001b[0;32m   1330\u001b[0m         obj,\n\u001b[0;32m   1331\u001b[0m         keys,\n\u001b[0;32m   1332\u001b[0m         axis\u001b[38;5;241m=\u001b[39maxis,\n\u001b[0;32m   1333\u001b[0m         level\u001b[38;5;241m=\u001b[39mlevel,\n\u001b[0;32m   1334\u001b[0m         sort\u001b[38;5;241m=\u001b[39msort,\n\u001b[0;32m   1335\u001b[0m         observed\u001b[38;5;241m=\u001b[39m\u001b[38;5;28;01mFalse\u001b[39;00m \u001b[38;5;28;01mif\u001b[39;00m observed \u001b[38;5;129;01mis\u001b[39;00m lib\u001b[38;5;241m.\u001b[39mno_default \u001b[38;5;28;01melse\u001b[39;00m observed,\n\u001b[0;32m   1336\u001b[0m         dropna\u001b[38;5;241m=\u001b[39m\u001b[38;5;28mself\u001b[39m\u001b[38;5;241m.\u001b[39mdropna,\n\u001b[0;32m   1337\u001b[0m     )\n\u001b[0;32m   1339\u001b[0m \u001b[38;5;28;01mif\u001b[39;00m observed \u001b[38;5;129;01mis\u001b[39;00m lib\u001b[38;5;241m.\u001b[39mno_default:\n\u001b[0;32m   1340\u001b[0m     \u001b[38;5;28;01mif\u001b[39;00m \u001b[38;5;28many\u001b[39m(ping\u001b[38;5;241m.\u001b[39m_passed_categorical \u001b[38;5;28;01mfor\u001b[39;00m ping \u001b[38;5;129;01min\u001b[39;00m grouper\u001b[38;5;241m.\u001b[39mgroupings):\n",
      "File \u001b[1;32md:\\Anaconda\\Lib\\site-packages\\pandas\\core\\groupby\\grouper.py:1043\u001b[0m, in \u001b[0;36mget_grouper\u001b[1;34m(obj, key, axis, level, sort, observed, validate, dropna)\u001b[0m\n\u001b[0;32m   1041\u001b[0m         in_axis, level, gpr \u001b[38;5;241m=\u001b[39m \u001b[38;5;28;01mFalse\u001b[39;00m, gpr, \u001b[38;5;28;01mNone\u001b[39;00m\n\u001b[0;32m   1042\u001b[0m     \u001b[38;5;28;01melse\u001b[39;00m:\n\u001b[1;32m-> 1043\u001b[0m         \u001b[38;5;28;01mraise\u001b[39;00m \u001b[38;5;167;01mKeyError\u001b[39;00m(gpr)\n\u001b[0;32m   1044\u001b[0m \u001b[38;5;28;01melif\u001b[39;00m \u001b[38;5;28misinstance\u001b[39m(gpr, Grouper) \u001b[38;5;129;01mand\u001b[39;00m gpr\u001b[38;5;241m.\u001b[39mkey \u001b[38;5;129;01mis\u001b[39;00m \u001b[38;5;129;01mnot\u001b[39;00m \u001b[38;5;28;01mNone\u001b[39;00m:\n\u001b[0;32m   1045\u001b[0m     \u001b[38;5;66;03m# Add key to exclusions\u001b[39;00m\n\u001b[0;32m   1046\u001b[0m     exclusions\u001b[38;5;241m.\u001b[39madd(gpr\u001b[38;5;241m.\u001b[39mkey)\n",
      "\u001b[1;31mKeyError\u001b[0m: 'Decile'"
     ]
    },
    {
     "data": {
      "text/plain": [
       "<Figure size 1000x600 with 0 Axes>"
      ]
     },
     "metadata": {},
     "output_type": "display_data"
    }
   ],
   "source": [
    "# Create Portfolio DataFrame\n",
    "portfolio_df = pd.DataFrame(portfolio_returns)\n",
    "\n",
    "print(portfolio_df.head())\n",
    "print(portfolio_df.columns)\n",
    "\n",
    "# Plot results\n",
    "plt.figure(figsize=(10, 6))\n",
    "sns.lineplot(\n",
    "    data=portfolio_df.groupby(\"Decile\")[\"Return\"].mean().reset_index(),\n",
    "    x=\"Decile\", y=\"Return\", marker=\"o\"\n",
    ")\n",
    "plt.title(\"Average Holding Period Return by Momentum Decile (J3/K3)\")\n",
    "plt.ylabel(\"Average Return\")\n",
    "plt.xlabel(\"Momentum Decile (1 = Losers, 10 = Winners)\")\n",
    "plt.grid(True)\n",
    "plt.tight_layout()\n",
    "plt.show()"
   ]
  }
 ],
 "metadata": {
  "kernelspec": {
   "display_name": "base",
   "language": "python",
   "name": "python3"
  },
  "language_info": {
   "codemirror_mode": {
    "name": "ipython",
    "version": 3
   },
   "file_extension": ".py",
   "mimetype": "text/x-python",
   "name": "python",
   "nbconvert_exporter": "python",
   "pygments_lexer": "ipython3",
   "version": "3.12.3"
  }
 },
 "nbformat": 4,
 "nbformat_minor": 5
}
